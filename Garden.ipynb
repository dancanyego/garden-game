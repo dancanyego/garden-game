{
 "cells": [
  {
   "cell_type": "markdown",
   "id": "0bce0ff6",
   "metadata": {},
   "source": [
    "# Grow Garden\n",
    "\n",
    "Players will simulate the experience of gardening by planting, growing, and harvesting virtual plants.\n",
    "Players will choose which plants to grow, tend to them, and eventually harvest them.\n",
    "The game will incorporate various stages of plant growth, from seeds to mature plants, and players will need to care for their plants at each stage.\n",
    "\n",
    "\n",
    "Features:\n",
    "\n",
    "Planting: Choose a plant from your inventory and plant it.\n",
    "Tending: Care for your plants to help them grow.\n",
    "Harvesting: Once a plant is mature, harvest it to add to your inventory.\n",
    "Foraging: Look for new seeds to expand your plant collection."
   ]
  },
  {
   "cell_type": "code",
   "execution_count": 1,
   "id": "dc81b0a7",
   "metadata": {},
   "outputs": [],
   "source": [
    "import random "
   ]
  },
  {
   "cell_type": "code",
   "execution_count": 4,
   "id": "d8923abf",
   "metadata": {},
   "outputs": [],
   "source": [
    "class Plant:\n",
    "    def __init__(self, name, harvest_yield):\n",
    "        self.name = name\n",
    "        self.harvest_yield = harvest_yield\n",
    "        self.growth_stages = [\"seed\", \"sprout\", \"mature\", \"flower\", \"fruit\", \"harvest-ready\"]\n",
    "        self.current_growth_stage = self.growth_stages[0] # Initial growth stage is seed\n",
    "        self.harvestable = False\n",
    "\n",
    "    def grow(self):\n",
    "        current_index = self.growth_stages.index(self.current_growth_stage)\n",
    "        if self.current_growth_stage == self.growth_stages[-1]:\n",
    "            print(f\"{self.name} is already fully grown!\")\n",
    "        elif current_index < len(self.growth_stages) - 1:\n",
    "            self.current_growth_stage = self.growth_stages[current_index + 1]\n",
    "            if self.current_growth_stage == \"harvest-ready\":\n",
    "                self.harvestable = True\n",
    "\n",
    "    def harvest(self):\n",
    "        if self.harvestable:\n",
    "            self.harvestable = False\n",
    "            return self.harvest_yield\n",
    "        else:\n",
    "            return None"
   ]
  },
  {
   "cell_type": "code",
   "execution_count": null,
   "id": "c1e9d01d",
   "metadata": {},
   "outputs": [],
   "source": []
  }
 ],
 "metadata": {
  "kernelspec": {
   "display_name": "Python 3 (ipykernel)",
   "language": "python",
   "name": "python3"
  },
  "language_info": {
   "codemirror_mode": {
    "name": "ipython",
    "version": 3
   },
   "file_extension": ".py",
   "mimetype": "text/x-python",
   "name": "python",
   "nbconvert_exporter": "python",
   "pygments_lexer": "ipython3",
   "version": "3.7.16"
  }
 },
 "nbformat": 4,
 "nbformat_minor": 5
}
