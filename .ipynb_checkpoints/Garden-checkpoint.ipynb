{
 "cells": [
  {
   "cell_type": "markdown",
   "id": "0bce0ff6",
   "metadata": {},
   "source": [
    "# Grow Garden\n",
    "\n",
    "Players will simulate the experience of gardening by planting, growing, and harvesting virtual plants.\n",
    "Players will choose which plants to grow, tend to them, and eventually harvest them.\n",
    "The game will incorporate various stages of plant growth, from seeds to mature plants, and players will need to care for their plants at each stage.\n",
    "\n",
    "\n",
    "Features:\n",
    "\n",
    "Planting: Choose a plant from your inventory and plant it.\n",
    "Tending: Care for your plants to help them grow.\n",
    "Harvesting: Once a plant is mature, harvest it to add to your inventory.\n",
    "Foraging: Look for new seeds to expand your plant collection."
   ]
  },
  {
   "cell_type": "code",
   "execution_count": 1,
   "id": "dc81b0a7",
   "metadata": {},
   "outputs": [],
   "source": [
    "import random "
   ]
  },
  {
   "cell_type": "code",
   "execution_count": 2,
   "id": "d8923abf",
   "metadata": {},
   "outputs": [],
   "source": [
    "class Plant:\n",
    "    def __init__(self, name, harvest_yield):\n",
    "        self.name = name\n",
    "        self.harvest_yield = harvest_yield\n",
    "        self.growth_stages = [\"seed\", \"sprout\", \"mature\", \"flower\", \"fruit\", \"harvest-ready\"]\n",
    "        self.current_growth_stage = self.growth_stages[0] # Initial growth stage is seed\n",
    "        self.harvestable = False\n",
    "\n",
    "    def grow(self):\n",
    "        current_index = self.growth_stages.index(self.current_growth_stage)\n",
    "        if self.current_growth_stage == self.growth_stages[-1]:\n",
    "            print(f\"{self.name} is already fully grown!\")\n",
    "        elif current_index < len(self.growth_stages) - 1:\n",
    "            self.current_growth_stage = self.growth_stages[current_index + 1]\n",
    "            if self.current_growth_stage == \"harvest-ready\":\n",
    "                self.harvestable = True\n",
    "\n",
    "    def harvest(self):\n",
    "        if self.harvestable:\n",
    "            self.harvestable = False\n",
    "            return self.harvest_yield\n",
    "        else:\n",
    "            return None"
   ]
  },
  {
   "cell_type": "markdown",
   "id": "8b85646e",
   "metadata": {},
   "source": [
    "# Adding specific Plant types that will be available on the game \n",
    "\n",
    "Plant subclasses will be the heart of the game, representing as many plants as we want to create subclasses for. Below, we can see that the Tomato subclass inherits everything from Plant, but Lettuce and Carrot override the inherited growth_stages attribute because these types of plant do not flower or fruit before they are \"harvest-ready.\""
   ]
  },
  {
   "cell_type": "code",
   "execution_count": 3,
   "id": "e77efda5",
   "metadata": {},
   "outputs": [],
   "source": [
    "class Tomato(Plant):\n",
    "    def __init__(self):\n",
    "        super().__init__(\"Tomato\", 10)\n",
    "\n",
    "class Lettuce(Plant):\n",
    "    def __init__(self):\n",
    "        super().__init__(\"Lettuce\", 5)\n",
    "        self.growth_stages = [\"seed\", \"sprout\", \"mature\", \"harvest-ready\"]\n",
    "\n",
    "class Carrot(Plant):\n",
    "    def __init__(self):\n",
    "        super().__init__(\"Carrot\", 8)\n",
    "        self.growth_stages = [\"seed\", \"sprout\", \"mature\", \"harvest-ready\"]"
   ]
  },
  {
   "cell_type": "markdown",
   "id": "aa7b751f",
   "metadata": {},
   "source": [
    "# Selecting Inventory Items\n",
    "This is a helper function that will go through a dictionary or list, display the keys or list items to the user as a numbered list, and then prompt the user to select an item by number. The function returns the corresponding item.\n",
    "\n",
    "# Continuous Prompting for Selecting Items\n",
    "An important aspect of this helper function is its ability to continuously prompt users until they select valid input. This helps account for input errors and ensures that users provide valid selections."
   ]
  },
  {
   "cell_type": "code",
   "execution_count": 4,
   "id": "27c34884",
   "metadata": {},
   "outputs": [],
   "source": [
    "def select_item(items):\n",
    "    # this determines if the item is a dictionary or a list\n",
    "    if type(items) == dict:\n",
    "        items_list = list(items.keys())\n",
    "    elif type(items) == list:\n",
    "        items_list = items\n",
    "    else:\n",
    "        print(\"invalid item type\")\n",
    "        \n",
    "        # print out items\n",
    "    for i in range(len(items_list)):\n",
    "        try:\n",
    "            item_name = items_list[1].name\n",
    "        except:\n",
    "            item_name = items_list[1]\n",
    "            \n",
    "    # ask user input\n",
    "    \n",
    "    while True:\n",
    "        user_input = input(\"Select an Item\")\n",
    "        try:\n",
    "            user_input =int(user_input)\n",
    "            if 0 < user_input <= len(items_list):\n",
    "                return items_list[user_input - 1].name\n",
    "            else:\n",
    "                print(\"Invalid Input !!\")\n",
    "        except:\n",
    "            print(\"Invalid Input !!\")\n",
    "            \n",
    "            "
   ]
  },
  {
   "cell_type": "markdown",
   "id": "157b2d04",
   "metadata": {},
   "source": [
    "# Defining the Gardener Class\n",
    "The Gardener class models the player, who can plant, tend, harvest, and forage plants. The class has three attributes:\n",
    "\n",
    "- name represents the gardener's name\n",
    "- planted_plants is a list of any plants the gardener has currently planted\n",
    "- inventory is a dictionary where the keys are the item names and the values are the quantity of the item.\n",
    "\n",
    "We have also created a plant_dict before the __init__ method to connect each plant subclass to a string so that it is easier to instantiate new objects for each type.\n",
    "\n",
    "# Extending the Gardener Class Functionality\n",
    "The Gardener class has four methods:\n",
    "\n",
    "- plant(): This method allows the gardener to plant a plant from their inventory. It prompts the user to select a plant from their inventory, then adds the plant to the planted_plants list and removes it from the inventory dictionary.\n",
    "- tend(): This method allows the gardener to tend to their plants. It prompts the user to select a plant from their planted plants, then calls the grow() method on that plant.\n",
    "- harvest(): This method allows the gardener to harvest a plant. It prompts the user to select a plant from their planted plants, then calls the harvest() method on that plant. It then adds the harvest yield to the gardener's inventory.\n",
    "\n",
    "# Introducing Randomness: Foraging for Seeds\n",
    "\n",
    "The forage() method allows the gardener to forage for seeds. It randomly selects a plant type from the plant_dict and adds it to the gardener's inventory."
   ]
  },
  {
   "cell_type": "code",
   "execution_count": null,
   "id": "09ec01d7",
   "metadata": {},
   "outputs": [],
   "source": [
    "class Gardener:\n",
    "    \"\"\"Represents a gardener who can plant and harvest plants.\"\"\"\n",
    "    def __init__(self,name):\n",
    "        self.name = name\n",
    "        self.planted_plants = []\n",
    "        self.inventory = {}\n",
    "        \n",
    "    def plant(self):\n",
    "        pass\n",
    "    def tend(self):\n",
    "        pass\n",
    "    def harvest(self):\n",
    "        pass\n",
    "    def forage_for_seeds(self):\n",
    "        pass\n",
    "      "
   ]
  }
 ],
 "metadata": {
  "kernelspec": {
   "display_name": "Python 3 (ipykernel)",
   "language": "python",
   "name": "python3"
  },
  "language_info": {
   "codemirror_mode": {
    "name": "ipython",
    "version": 3
   },
   "file_extension": ".py",
   "mimetype": "text/x-python",
   "name": "python",
   "nbconvert_exporter": "python",
   "pygments_lexer": "ipython3",
   "version": "3.7.16"
  }
 },
 "nbformat": 4,
 "nbformat_minor": 5
}
